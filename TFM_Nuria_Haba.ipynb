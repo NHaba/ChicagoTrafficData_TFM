{
  "cells": [
    {
      "cell_type": "markdown",
      "metadata": {
        "id": "WOlGIZqhYQTI"
      },
      "source": [
        "#Import necessary libraries"
      ]
    },
    {
      "cell_type": "code",
      "execution_count": 1,
      "metadata": {
        "colab": {
          "base_uri": "https://localhost:8080/"
        },
        "id": "NxkOB3DRgzaL",
        "outputId": "17a2dd37-4beb-4bc8-c54c-0af32a3427bb"
      },
      "outputs": [
        {
          "output_type": "stream",
          "name": "stdout",
          "text": [
            "Collecting pyspark\n",
            "  Downloading pyspark-3.5.0.tar.gz (316.9 MB)\n",
            "\u001b[2K     \u001b[90m━━━━━━━━━━━━━━━━━━━━━━━━━━━━━━━━━━━━━━━━\u001b[0m \u001b[32m316.9/316.9 MB\u001b[0m \u001b[31m2.9 MB/s\u001b[0m eta \u001b[36m0:00:00\u001b[0m\n",
            "\u001b[?25h  Preparing metadata (setup.py) ... \u001b[?25l\u001b[?25hdone\n",
            "Requirement already satisfied: py4j==0.10.9.7 in /usr/local/lib/python3.10/dist-packages (from pyspark) (0.10.9.7)\n",
            "Building wheels for collected packages: pyspark\n",
            "  Building wheel for pyspark (setup.py) ... \u001b[?25l\u001b[?25hdone\n",
            "  Created wheel for pyspark: filename=pyspark-3.5.0-py2.py3-none-any.whl size=317425345 sha256=af3820e9238221e0b1a72ecb5ae65c52f0427a5e55e28c49d69b0f1767c8d2ab\n",
            "  Stored in directory: /root/.cache/pip/wheels/41/4e/10/c2cf2467f71c678cfc8a6b9ac9241e5e44a01940da8fbb17fc\n",
            "Successfully built pyspark\n",
            "Installing collected packages: pyspark\n",
            "Successfully installed pyspark-3.5.0\n"
          ]
        }
      ],
      "source": [
        "pip install pyspark"
      ]
    },
    {
      "cell_type": "code",
      "execution_count": 76,
      "metadata": {
        "id": "s5OlO8cAVwX1"
      },
      "outputs": [],
      "source": [
        "from pyspark.sql import SparkSession\n",
        "from pyspark.sql.functions import avg, mean, count, col, lit, desc, format_number, format_string, expr\n",
        "from pyspark.sql.functions import dayofweek, year, date_format, month, round\n",
        "from pyspark.sql.window import Window\n",
        "from pyspark.sql.functions import lag, unix_timestamp\n",
        "from pyspark.sql import functions as F\n",
        "from pyspark.sql.types import DoubleType\n",
        "from pyspark.sql.functions import first\n",
        "\n",
        "from pyspark.ml.feature import VectorAssembler\n",
        "from pyspark.ml.regression import LinearRegression\n",
        "from pyspark.ml import Pipeline\n",
        "from pyspark.ml.evaluation import RegressionEvaluator\n",
        "\n",
        "import matplotlib.pyplot as plt\n",
        "import seaborn as sns\n",
        "import pandas as pd\n",
        "import folium"
      ]
    },
    {
      "cell_type": "markdown",
      "metadata": {
        "id": "ywSsXOk2Ycpr"
      },
      "source": [
        "#Create Spark Session"
      ]
    },
    {
      "cell_type": "code",
      "execution_count": 3,
      "metadata": {
        "id": "vDadii5RV0WV"
      },
      "outputs": [],
      "source": [
        "spark = SparkSession.builder \\\n",
        "    .appName(\"PySparkMySQL\") \\\n",
        "    .getOrCreate()"
      ]
    },
    {
      "cell_type": "markdown",
      "metadata": {
        "id": "-ynB5_jPYnxs"
      },
      "source": [
        "#Data Ingestion"
      ]
    },
    {
      "cell_type": "code",
      "execution_count": 4,
      "metadata": {
        "colab": {
          "base_uri": "https://localhost:8080/"
        },
        "id": "5xIewkgHWYIa",
        "outputId": "8e89db4c-0a73-42f6-af22-84f471ebd6d2"
      },
      "outputs": [
        {
          "output_type": "stream",
          "name": "stdout",
          "text": [
            "Mounted at /content/drive\n"
          ]
        }
      ],
      "source": [
        "from google.colab import drive\n",
        "drive.mount('/content/drive')"
      ]
    },
    {
      "cell_type": "code",
      "execution_count": 5,
      "metadata": {
        "id": "mj4Pao9FWqK7"
      },
      "outputs": [],
      "source": [
        "# Loading the dataset\n",
        "traffic_data = spark.read.parquet('/content/drive/MyDrive/chicagoTrafficData')"
      ]
    },
    {
      "cell_type": "code",
      "execution_count": 6,
      "metadata": {
        "colab": {
          "base_uri": "https://localhost:8080/"
        },
        "id": "GkXKgW16XaV5",
        "outputId": "6a4ec1c8-9d0c-4da2-bcbb-4d63208d0279"
      },
      "outputs": [
        {
          "output_type": "stream",
          "name": "stdout",
          "text": [
            "+--------------------+----------+-----+-------+-----------+---------+------+----+-----------+-----+--------------+---------------+-------------+--------------+--------------------+--------------------+\n",
            "|                time|segment_id|speed| street|from_street|to_street|length|hour|day_of_week|month|start_latitude|start_longitude| end_latitude| end_longitude|      start_location|        end_location|\n",
            "+--------------------+----------+-----+-------+-----------+---------+------+----+-----------+-----+--------------+---------------+-------------+--------------+--------------------+--------------------+\n",
            "|2018-03-02T17:50:...|       143|   24|Ashland|       47th|     51st|   0.5|  17|          6|    3| 41.8086055077| -87.6651559056|41.8013192816|-87.6649598466|{[-87.6651559056,...|{[-87.6649598466,...|\n",
            "|2018-03-02T18:01:...|       143|   20|Ashland|       47th|     51st|   0.5|  18|          6|    3| 41.8086055077| -87.6651559056|41.8013192816|-87.6649598466|{[-87.6651559056,...|{[-87.6649598466,...|\n",
            "|2018-03-03T22:50:...|       143|   26|Ashland|       47th|     51st|   0.5|  22|          7|    3| 41.8086055077| -87.6651559056|41.8013192816|-87.6649598466|{[-87.6651559056,...|{[-87.6649598466,...|\n",
            "|2018-03-01T11:50:...|       143|   31|Ashland|       47th|     51st|   0.5|  11|          5|    3| 41.8086055077| -87.6651559056|41.8013192816|-87.6649598466|{[-87.6651559056,...|{[-87.6649598466,...|\n",
            "|2018-03-03T07:10:...|       143|   28|Ashland|       47th|     51st|   0.5|   7|          7|    3| 41.8086055077| -87.6651559056|41.8013192816|-87.6649598466|{[-87.6651559056,...|{[-87.6649598466,...|\n",
            "|2018-03-01T12:20:...|       143|   18|Ashland|       47th|     51st|   0.5|  12|          5|    3| 41.8086055077| -87.6651559056|41.8013192816|-87.6649598466|{[-87.6651559056,...|{[-87.6649598466,...|\n",
            "|2018-03-02T18:30:...|       143|   20|Ashland|       47th|     51st|   0.5|  18|          6|    3| 41.8086055077| -87.6651559056|41.8013192816|-87.6649598466|{[-87.6651559056,...|{[-87.6649598466,...|\n",
            "|2018-03-02T18:40:...|       143|   22|Ashland|       47th|     51st|   0.5|  18|          6|    3| 41.8086055077| -87.6651559056|41.8013192816|-87.6649598466|{[-87.6651559056,...|{[-87.6649598466,...|\n",
            "|2018-03-03T23:10:...|       143|   27|Ashland|       47th|     51st|   0.5|  23|          7|    3| 41.8086055077| -87.6651559056|41.8013192816|-87.6649598466|{[-87.6651559056,...|{[-87.6649598466,...|\n",
            "|2018-03-01T12:50:...|       143|   18|Ashland|       47th|     51st|   0.5|  12|          5|    3| 41.8086055077| -87.6651559056|41.8013192816|-87.6649598466|{[-87.6651559056,...|{[-87.6649598466,...|\n",
            "+--------------------+----------+-----+-------+-----------+---------+------+----+-----------+-----+--------------+---------------+-------------+--------------+--------------------+--------------------+\n",
            "only showing top 10 rows\n",
            "\n"
          ]
        }
      ],
      "source": [
        "traffic_data.show(10)"
      ]
    },
    {
      "cell_type": "markdown",
      "source": [
        "#Data Preprocessing"
      ],
      "metadata": {
        "id": "2WZYZuedgYfn"
      }
    },
    {
      "cell_type": "code",
      "execution_count": 7,
      "metadata": {
        "id": "ehLcyjVsusAB"
      },
      "outputs": [],
      "source": [
        "# Convert format from miles per hour to km per hour, and from length in miles to length in km\n",
        "traffic_data = (\n",
        "    traffic_data\n",
        "    .withColumn(\"speed\",col(\"speed\") * 1.60934)\n",
        "    .withColumn(\"length\",col(\"length\") * 1.60934)\n",
        ")"
      ]
    },
    {
      "cell_type": "code",
      "execution_count": 8,
      "metadata": {
        "colab": {
          "base_uri": "https://localhost:8080/"
        },
        "id": "rARnQknEekqJ",
        "outputId": "0dfdfc02-8e5b-4d70-dac3-b6a64b0cf907"
      },
      "outputs": [
        {
          "output_type": "stream",
          "name": "stdout",
          "text": [
            "+--------------------+----------+--------+-------+-----------+---------+-------+----+-----------+-----+--------------+---------------+-------------+--------------+--------------------+--------------------+\n",
            "|                time|segment_id|   speed| street|from_street|to_street| length|hour|day_of_week|month|start_latitude|start_longitude| end_latitude| end_longitude|      start_location|        end_location|\n",
            "+--------------------+----------+--------+-------+-----------+---------+-------+----+-----------+-----+--------------+---------------+-------------+--------------+--------------------+--------------------+\n",
            "|2018-03-02T17:50:...|       143|38.62416|Ashland|       47th|     51st|0.80467|  17|          6|    3| 41.8086055077| -87.6651559056|41.8013192816|-87.6649598466|{[-87.6651559056,...|{[-87.6649598466,...|\n",
            "|2018-03-02T18:01:...|       143| 32.1868|Ashland|       47th|     51st|0.80467|  18|          6|    3| 41.8086055077| -87.6651559056|41.8013192816|-87.6649598466|{[-87.6651559056,...|{[-87.6649598466,...|\n",
            "|2018-03-03T22:50:...|       143|41.84284|Ashland|       47th|     51st|0.80467|  22|          7|    3| 41.8086055077| -87.6651559056|41.8013192816|-87.6649598466|{[-87.6651559056,...|{[-87.6649598466,...|\n",
            "|2018-03-01T11:50:...|       143|49.88954|Ashland|       47th|     51st|0.80467|  11|          5|    3| 41.8086055077| -87.6651559056|41.8013192816|-87.6649598466|{[-87.6651559056,...|{[-87.6649598466,...|\n",
            "|2018-03-03T07:10:...|       143|45.06152|Ashland|       47th|     51st|0.80467|   7|          7|    3| 41.8086055077| -87.6651559056|41.8013192816|-87.6649598466|{[-87.6651559056,...|{[-87.6649598466,...|\n",
            "+--------------------+----------+--------+-------+-----------+---------+-------+----+-----------+-----+--------------+---------------+-------------+--------------+--------------------+--------------------+\n",
            "only showing top 5 rows\n",
            "\n"
          ]
        }
      ],
      "source": [
        "traffic_data.show(5)"
      ]
    },
    {
      "cell_type": "code",
      "execution_count": 11,
      "metadata": {
        "id": "l91FU8eNYTCx"
      },
      "outputs": [],
      "source": [
        "# Take only two decimals from speed column\n",
        "traffic_data = traffic_data.withColumn(\"speed\", format_string(\"%.2f\", col(\"speed\").cast(\"float\")))"
      ]
    },
    {
      "cell_type": "code",
      "execution_count": 10,
      "metadata": {
        "colab": {
          "base_uri": "https://localhost:8080/"
        },
        "id": "4NBwp_BeerKg",
        "outputId": "f2ffb3a3-9d30-4461-dcda-c1ffbcada57e"
      },
      "outputs": [
        {
          "output_type": "stream",
          "name": "stdout",
          "text": [
            "+--------------------+----------+-----+-------+-----------+---------+-------+----+-----------+-----+--------------+---------------+-------------+--------------+--------------------+--------------------+\n",
            "|                time|segment_id|speed| street|from_street|to_street| length|hour|day_of_week|month|start_latitude|start_longitude| end_latitude| end_longitude|      start_location|        end_location|\n",
            "+--------------------+----------+-----+-------+-----------+---------+-------+----+-----------+-----+--------------+---------------+-------------+--------------+--------------------+--------------------+\n",
            "|2018-03-02T17:50:...|       143|38.62|Ashland|       47th|     51st|0.80467|  17|          6|    3| 41.8086055077| -87.6651559056|41.8013192816|-87.6649598466|{[-87.6651559056,...|{[-87.6649598466,...|\n",
            "|2018-03-02T18:01:...|       143|32.19|Ashland|       47th|     51st|0.80467|  18|          6|    3| 41.8086055077| -87.6651559056|41.8013192816|-87.6649598466|{[-87.6651559056,...|{[-87.6649598466,...|\n",
            "|2018-03-03T22:50:...|       143|41.84|Ashland|       47th|     51st|0.80467|  22|          7|    3| 41.8086055077| -87.6651559056|41.8013192816|-87.6649598466|{[-87.6651559056,...|{[-87.6649598466,...|\n",
            "|2018-03-01T11:50:...|       143|49.89|Ashland|       47th|     51st|0.80467|  11|          5|    3| 41.8086055077| -87.6651559056|41.8013192816|-87.6649598466|{[-87.6651559056,...|{[-87.6649598466,...|\n",
            "|2018-03-03T07:10:...|       143|45.06|Ashland|       47th|     51st|0.80467|   7|          7|    3| 41.8086055077| -87.6651559056|41.8013192816|-87.6649598466|{[-87.6651559056,...|{[-87.6649598466,...|\n",
            "+--------------------+----------+-----+-------+-----------+---------+-------+----+-----------+-----+--------------+---------------+-------------+--------------+--------------------+--------------------+\n",
            "only showing top 5 rows\n",
            "\n"
          ]
        }
      ],
      "source": [
        "traffic_data.show(5)"
      ]
    },
    {
      "cell_type": "code",
      "execution_count": 12,
      "metadata": {
        "colab": {
          "base_uri": "https://localhost:8080/"
        },
        "id": "CBiiabyhYWlG",
        "outputId": "9ecfa375-901d-4120-ed12-35bd346bd35c"
      },
      "outputs": [
        {
          "output_type": "stream",
          "name": "stdout",
          "text": [
            "root\n",
            " |-- time: string (nullable = true)\n",
            " |-- segment_id: string (nullable = true)\n",
            " |-- speed: string (nullable = false)\n",
            " |-- street: string (nullable = true)\n",
            " |-- from_street: string (nullable = true)\n",
            " |-- to_street: string (nullable = true)\n",
            " |-- length: double (nullable = true)\n",
            " |-- hour: string (nullable = true)\n",
            " |-- day_of_week: string (nullable = true)\n",
            " |-- month: string (nullable = true)\n",
            " |-- start_latitude: string (nullable = true)\n",
            " |-- start_longitude: string (nullable = true)\n",
            " |-- end_latitude: string (nullable = true)\n",
            " |-- end_longitude: string (nullable = true)\n",
            " |-- start_location: struct (nullable = true)\n",
            " |    |-- coordinates: array (nullable = true)\n",
            " |    |    |-- element: double (containsNull = true)\n",
            " |    |-- type: string (nullable = true)\n",
            " |-- end_location: struct (nullable = true)\n",
            " |    |-- coordinates: array (nullable = true)\n",
            " |    |    |-- element: double (containsNull = true)\n",
            " |    |-- type: string (nullable = true)\n",
            "\n"
          ]
        }
      ],
      "source": [
        "traffic_data.printSchema()"
      ]
    },
    {
      "cell_type": "code",
      "execution_count": 18,
      "metadata": {
        "id": "d3momXUuuwfl"
      },
      "outputs": [],
      "source": [
        "# Conversion of data types\n",
        "traffic_data = (\n",
        "    traffic_data\n",
        "    .withColumn(\"time\", col(\"time\").cast(\"timestamp\"))\n",
        "    .withColumn(\"segment_id\", col(\"segment_id\").cast(\"int\"))\n",
        "    .withColumn(\"speed\", col(\"speed\").cast(\"float\"))\n",
        "    .withColumn(\"hour\", col(\"hour\").cast(\"int\"))\n",
        "    .withColumn(\"day_of_week\", col(\"day_of_week\").cast(\"int\"))\n",
        "    .withColumn(\"month\", col(\"month\").cast(\"int\"))\n",
        "    .withColumn(\"start_latitude\", col(\"start_latitude\").cast(\"double\"))\n",
        "    .withColumn(\"start_longitude\", col(\"start_longitude\").cast(\"double\"))\n",
        "    .withColumn(\"end_latitude\", col(\"end_latitude\").cast(\"double\"))\n",
        "    .withColumn(\"end_longitude\", col(\"end_longitude\").cast(\"double\"))\n",
        ")"
      ]
    },
    {
      "cell_type": "code",
      "execution_count": 19,
      "metadata": {
        "colab": {
          "base_uri": "https://localhost:8080/"
        },
        "id": "GeOIlVZS13U6",
        "outputId": "26cbb393-1f9a-4d52-ec02-f0ea9dd71e82"
      },
      "outputs": [
        {
          "output_type": "stream",
          "name": "stdout",
          "text": [
            "root\n",
            " |-- time: timestamp (nullable = true)\n",
            " |-- segment_id: integer (nullable = true)\n",
            " |-- speed: float (nullable = true)\n",
            " |-- street: string (nullable = true)\n",
            " |-- from_street: string (nullable = true)\n",
            " |-- to_street: string (nullable = true)\n",
            " |-- length: double (nullable = true)\n",
            " |-- hour: integer (nullable = true)\n",
            " |-- day_of_week: integer (nullable = true)\n",
            " |-- month: integer (nullable = true)\n",
            " |-- start_latitude: double (nullable = true)\n",
            " |-- start_longitude: double (nullable = true)\n",
            " |-- end_latitude: double (nullable = true)\n",
            " |-- end_longitude: double (nullable = true)\n",
            " |-- start_location: struct (nullable = true)\n",
            " |    |-- coordinates: array (nullable = true)\n",
            " |    |    |-- element: double (containsNull = true)\n",
            " |    |-- type: string (nullable = true)\n",
            " |-- end_location: struct (nullable = true)\n",
            " |    |-- coordinates: array (nullable = true)\n",
            " |    |    |-- element: double (containsNull = true)\n",
            " |    |-- type: string (nullable = true)\n",
            "\n"
          ]
        }
      ],
      "source": [
        "traffic_data.printSchema()"
      ]
    },
    {
      "cell_type": "code",
      "execution_count": 17,
      "metadata": {
        "colab": {
          "base_uri": "https://localhost:8080/"
        },
        "id": "y45qfGODw-Q2",
        "outputId": "4b6148b1-6af8-4965-c922-f558b6d4ecea"
      },
      "outputs": [
        {
          "output_type": "stream",
          "name": "stdout",
          "text": [
            "+-------------------+----------+-----+-------+-----------+---------+-------+----+-----------+-----+--------------+---------------+-------------+--------------+--------------------+--------------------+\n",
            "|               time|segment_id|speed| street|from_street|to_street| length|hour|day_of_week|month|start_latitude|start_longitude| end_latitude| end_longitude|      start_location|        end_location|\n",
            "+-------------------+----------+-----+-------+-----------+---------+-------+----+-----------+-----+--------------+---------------+-------------+--------------+--------------------+--------------------+\n",
            "|2018-03-02 17:50:21|       143|38.62|Ashland|       47th|     51st|0.80467|  17|          6|    3| 41.8086055077| -87.6651559056|41.8013192816|-87.6649598466|{[-87.6651559056,...|{[-87.6649598466,...|\n",
            "|2018-03-02 18:01:07|       143|32.19|Ashland|       47th|     51st|0.80467|  18|          6|    3| 41.8086055077| -87.6651559056|41.8013192816|-87.6649598466|{[-87.6651559056,...|{[-87.6649598466,...|\n",
            "|2018-03-03 22:50:16|       143|41.84|Ashland|       47th|     51st|0.80467|  22|          7|    3| 41.8086055077| -87.6651559056|41.8013192816|-87.6649598466|{[-87.6651559056,...|{[-87.6649598466,...|\n",
            "|2018-03-01 11:50:19|       143|49.89|Ashland|       47th|     51st|0.80467|  11|          5|    3| 41.8086055077| -87.6651559056|41.8013192816|-87.6649598466|{[-87.6651559056,...|{[-87.6649598466,...|\n",
            "|2018-03-03 07:10:17|       143|45.06|Ashland|       47th|     51st|0.80467|   7|          7|    3| 41.8086055077| -87.6651559056|41.8013192816|-87.6649598466|{[-87.6651559056,...|{[-87.6649598466,...|\n",
            "|2018-03-01 12:20:36|       143|28.97|Ashland|       47th|     51st|0.80467|  12|          5|    3| 41.8086055077| -87.6651559056|41.8013192816|-87.6649598466|{[-87.6651559056,...|{[-87.6649598466,...|\n",
            "|2018-03-02 18:30:53|       143|32.19|Ashland|       47th|     51st|0.80467|  18|          6|    3| 41.8086055077| -87.6651559056|41.8013192816|-87.6649598466|{[-87.6651559056,...|{[-87.6649598466,...|\n",
            "|2018-03-02 18:40:04|       143|35.41|Ashland|       47th|     51st|0.80467|  18|          6|    3| 41.8086055077| -87.6651559056|41.8013192816|-87.6649598466|{[-87.6651559056,...|{[-87.6649598466,...|\n",
            "|2018-03-03 23:10:16|       143|43.45|Ashland|       47th|     51st|0.80467|  23|          7|    3| 41.8086055077| -87.6651559056|41.8013192816|-87.6649598466|{[-87.6651559056,...|{[-87.6649598466,...|\n",
            "|2018-03-01 12:50:17|       143|28.97|Ashland|       47th|     51st|0.80467|  12|          5|    3| 41.8086055077| -87.6651559056|41.8013192816|-87.6649598466|{[-87.6651559056,...|{[-87.6649598466,...|\n",
            "|2018-03-02 18:50:19|       143|40.23|Ashland|       47th|     51st|0.80467|  18|          6|    3| 41.8086055077| -87.6651559056|41.8013192816|-87.6649598466|{[-87.6651559056,...|{[-87.6649598466,...|\n",
            "|2018-03-03 07:30:51|       143|28.97|Ashland|       47th|     51st|0.80467|   7|          7|    3| 41.8086055077| -87.6651559056|41.8013192816|-87.6649598466|{[-87.6651559056,...|{[-87.6649598466,...|\n",
            "|2018-03-05 19:50:19|       143|37.01|Ashland|       47th|     51st|0.80467|  19|          2|    3| 41.8086055077| -87.6651559056|41.8013192816|-87.6649598466|{[-87.6651559056,...|{[-87.6649598466,...|\n",
            "|2018-03-01 15:30:54|       143|28.97|Ashland|       47th|     51st|0.80467|  15|          5|    3| 41.8086055077| -87.6651559056|41.8013192816|-87.6649598466|{[-87.6651559056,...|{[-87.6649598466,...|\n",
            "|2018-03-03 07:40:02|       143|46.67|Ashland|       47th|     51st|0.80467|   7|          7|    3| 41.8086055077| -87.6651559056|41.8013192816|-87.6649598466|{[-87.6651559056,...|{[-87.6649598466,...|\n",
            "|2018-03-02 19:20:36|       143|49.89|Ashland|       47th|     51st|0.80467|  19|          6|    3| 41.8086055077| -87.6651559056|41.8013192816|-87.6649598466|{[-87.6651559056,...|{[-87.6649598466,...|\n",
            "|2018-03-01 13:30:51|       143|27.36|Ashland|       47th|     51st|0.80467|  13|          5|    3| 41.8086055077| -87.6651559056|41.8013192816|-87.6649598466|{[-87.6651559056,...|{[-87.6649598466,...|\n",
            "|2018-03-02 19:30:51|       143|35.41|Ashland|       47th|     51st|0.80467|  19|          6|    3| 41.8086055077| -87.6651559056|41.8013192816|-87.6649598466|{[-87.6651559056,...|{[-87.6649598466,...|\n",
            "|2018-03-02 19:40:07|       143|41.84|Ashland|       47th|     51st|0.80467|  19|          6|    3| 41.8086055077| -87.6651559056|41.8013192816|-87.6649598466|{[-87.6651559056,...|{[-87.6649598466,...|\n",
            "|2018-03-01 14:01:08|       143|27.36|Ashland|       47th|     51st|0.80467|  14|          5|    3| 41.8086055077| -87.6651559056|41.8013192816|-87.6649598466|{[-87.6651559056,...|{[-87.6649598466,...|\n",
            "+-------------------+----------+-----+-------+-----------+---------+-------+----+-----------+-----+--------------+---------------+-------------+--------------+--------------------+--------------------+\n",
            "only showing top 20 rows\n",
            "\n"
          ]
        }
      ],
      "source": [
        "traffic_data.show()"
      ]
    },
    {
      "cell_type": "markdown",
      "metadata": {
        "id": "7ilWMf7N1H5T"
      },
      "source": [
        "CALCULATE THE AVERAGE TIME IT WILL TAKE TO GET FROM ONE POINT TO ANOTHER"
      ]
    },
    {
      "cell_type": "code",
      "execution_count": 20,
      "metadata": {
        "id": "YsD0IrwVd314"
      },
      "outputs": [],
      "source": [
        "# Create a new column named ‘estimated_time’ by dividing the ‘length’ of each segment by its corresponding ‘speed’.\n",
        "traffic_data_time = (\n",
        "    traffic_data\n",
        "    .withColumn('estimated_time', round((col('length') / col('speed') * 60),2))\n",
        ")"
      ]
    },
    {
      "cell_type": "code",
      "execution_count": 21,
      "metadata": {
        "colab": {
          "base_uri": "https://localhost:8080/"
        },
        "id": "zZKCuRwNk76I",
        "outputId": "7e05278a-fdc4-4855-9418-fab59ad7b113"
      },
      "outputs": [
        {
          "output_type": "execute_result",
          "data": {
            "text/plain": [
              "1238"
            ]
          },
          "metadata": {},
          "execution_count": 21
        }
      ],
      "source": [
        "# Check for null values in 'estimated_time' column\n",
        "traffic_data_time.select('estimated_time').filter(F.col('estimated_time').isNull() | F.isnan('estimated_time')).count()"
      ]
    },
    {
      "cell_type": "markdown",
      "source": [
        "The missing entries are going to be replaced with the median value (50th percentile) of the ‘estimated_time’’ column. This imputation method ensures that the dataset remains representative and minimizes potential biases introduced by missing data."
      ],
      "metadata": {
        "id": "ouxAKRuNfp5q"
      }
    },
    {
      "cell_type": "code",
      "execution_count": 22,
      "metadata": {
        "id": "O7g-xOwVs9zR"
      },
      "outputs": [],
      "source": [
        "# Calculate the 50th percentile of the 'estimated_time' column\n",
        "percentile_50_value = (\n",
        "    traffic_data_time\n",
        "    .approxQuantile('estimated_time', [0.5], 0.001)[0]\n",
        ")\n",
        "# Fill null values with 50th percentile\n",
        "traffic_data_time = (\n",
        "    traffic_data_time\n",
        "    .fillna(percentile_50_value, subset=['estimated_time'])\n",
        ")"
      ]
    },
    {
      "cell_type": "code",
      "execution_count": 23,
      "metadata": {
        "id": "IipSuVcZk3OE"
      },
      "outputs": [],
      "source": [
        "# Calculate the mean of the 'estimated_time' column\n",
        "# mean_value = traffic_data_time.agg(F.mean('estimated_time')).collect()[0][0]\n",
        "\n",
        "# Fill null values with mean\n",
        "# traffic_data_time = traffic_data_time.fillna(mean_value, subset=['estimated_time'])\n"
      ]
    },
    {
      "cell_type": "code",
      "execution_count": 24,
      "metadata": {
        "colab": {
          "base_uri": "https://localhost:8080/"
        },
        "id": "DYE8U20lrqVs",
        "outputId": "c88a21dc-f4f6-4025-8cdc-7930bc2e9cbd"
      },
      "outputs": [
        {
          "output_type": "stream",
          "name": "stdout",
          "text": [
            "+-------------------+----------+-----+-------+-----------+---------+-------+----+-----------+-----+--------------+---------------+-------------+--------------+--------------------+--------------------+--------------+\n",
            "|               time|segment_id|speed| street|from_street|to_street| length|hour|day_of_week|month|start_latitude|start_longitude| end_latitude| end_longitude|      start_location|        end_location|estimated_time|\n",
            "+-------------------+----------+-----+-------+-----------+---------+-------+----+-----------+-----+--------------+---------------+-------------+--------------+--------------------+--------------------+--------------+\n",
            "|2018-03-02 17:50:21|       143|38.62|Ashland|       47th|     51st|0.80467|  17|          6|    3| 41.8086055077| -87.6651559056|41.8013192816|-87.6649598466|{[-87.6651559056,...|{[-87.6649598466,...|          1.25|\n",
            "|2018-03-02 18:01:07|       143|32.19|Ashland|       47th|     51st|0.80467|  18|          6|    3| 41.8086055077| -87.6651559056|41.8013192816|-87.6649598466|{[-87.6651559056,...|{[-87.6649598466,...|           1.5|\n",
            "|2018-03-03 22:50:16|       143|41.84|Ashland|       47th|     51st|0.80467|  22|          7|    3| 41.8086055077| -87.6651559056|41.8013192816|-87.6649598466|{[-87.6651559056,...|{[-87.6649598466,...|          1.15|\n",
            "|2018-03-01 11:50:19|       143|49.89|Ashland|       47th|     51st|0.80467|  11|          5|    3| 41.8086055077| -87.6651559056|41.8013192816|-87.6649598466|{[-87.6651559056,...|{[-87.6649598466,...|          0.97|\n",
            "|2018-03-03 07:10:17|       143|45.06|Ashland|       47th|     51st|0.80467|   7|          7|    3| 41.8086055077| -87.6651559056|41.8013192816|-87.6649598466|{[-87.6651559056,...|{[-87.6649598466,...|          1.07|\n",
            "|2018-03-01 12:20:36|       143|28.97|Ashland|       47th|     51st|0.80467|  12|          5|    3| 41.8086055077| -87.6651559056|41.8013192816|-87.6649598466|{[-87.6651559056,...|{[-87.6649598466,...|          1.67|\n",
            "|2018-03-02 18:30:53|       143|32.19|Ashland|       47th|     51st|0.80467|  18|          6|    3| 41.8086055077| -87.6651559056|41.8013192816|-87.6649598466|{[-87.6651559056,...|{[-87.6649598466,...|           1.5|\n",
            "|2018-03-02 18:40:04|       143|35.41|Ashland|       47th|     51st|0.80467|  18|          6|    3| 41.8086055077| -87.6651559056|41.8013192816|-87.6649598466|{[-87.6651559056,...|{[-87.6649598466,...|          1.36|\n",
            "|2018-03-03 23:10:16|       143|43.45|Ashland|       47th|     51st|0.80467|  23|          7|    3| 41.8086055077| -87.6651559056|41.8013192816|-87.6649598466|{[-87.6651559056,...|{[-87.6649598466,...|          1.11|\n",
            "|2018-03-01 12:50:17|       143|28.97|Ashland|       47th|     51st|0.80467|  12|          5|    3| 41.8086055077| -87.6651559056|41.8013192816|-87.6649598466|{[-87.6651559056,...|{[-87.6649598466,...|          1.67|\n",
            "+-------------------+----------+-----+-------+-----------+---------+-------+----+-----------+-----+--------------+---------------+-------------+--------------+--------------------+--------------------+--------------+\n",
            "only showing top 10 rows\n",
            "\n"
          ]
        }
      ],
      "source": [
        "traffic_data_time.show(10)"
      ]
    },
    {
      "cell_type": "markdown",
      "metadata": {
        "id": "C8CXv5Ucv_sz"
      },
      "source": [
        "# Exploratory Data Analysis (EDA)"
      ]
    },
    {
      "cell_type": "code",
      "execution_count": 25,
      "metadata": {
        "colab": {
          "base_uri": "https://localhost:8080/"
        },
        "id": "PBxRVrNHwIap",
        "outputId": "90fcf170-d75c-46ec-c2e4-13a8fda3ce44"
      },
      "outputs": [
        {
          "output_type": "stream",
          "name": "stdout",
          "text": [
            "+-------+-----------------+-------------------+------------------+\n",
            "|summary|            speed|             length|    estimated_time|\n",
            "+-------+-----------------+-------------------+------------------+\n",
            "|  count|          1881410|            1881410|           1881410|\n",
            "|   mean|41.53971869814013| 0.8947982065603061|1.3333592677829442|\n",
            "| stddev|8.495203555560462|0.26686825762982436|0.5523585829337506|\n",
            "|    min|              0.0| 0.6437360000000001|              0.79|\n",
            "|    max|            65.98|            1.60934|             59.98|\n",
            "+-------+-----------------+-------------------+------------------+\n",
            "\n"
          ]
        }
      ],
      "source": [
        "# 1. Descriptive Statistics:\n",
        "traffic_data_time.describe(['speed', 'length', 'estimated_time']).show()"
      ]
    },
    {
      "cell_type": "code",
      "execution_count": 26,
      "metadata": {
        "colab": {
          "base_uri": "https://localhost:8080/",
          "height": 469
        },
        "id": "vE9UEGl9wIRT",
        "outputId": "83fe7175-3e7d-4782-c690-cadd4c0228ca"
      },
      "outputs": [
        {
          "output_type": "execute_result",
          "data": {
            "text/plain": [
              "array([[<Axes: title={'center': 'speed'}>]], dtype=object)"
            ]
          },
          "metadata": {},
          "execution_count": 26
        },
        {
          "output_type": "display_data",
          "data": {
            "text/plain": [
              "<Figure size 640x480 with 1 Axes>"
            ],
            "image/png": "[encoded data removed]"
          },
          "metadata": {}
        }
      ],
      "source": [
        "# 2. Speed Distribution:\n",
        "traffic_data_time.select('speed').toPandas().hist(bins=20)"
      ]
    },
    {
      "cell_type": "code",
      "execution_count": 27,
      "metadata": {
        "id": "XwDwlmDnwIHG"
      },
      "outputs": [],
      "source": [
        "# 3. Relationship between Speed and Hour of the Day:\n",
        "avg_speed_by_hour = traffic_data_time.groupBy('hour').agg(F.mean('speed').alias('avg_speed'))\n",
        "#avg_speed_by_hour.sort('hour').show(24)"
      ]
    },
    {
      "cell_type": "code",
      "execution_count": 28,
      "metadata": {
        "colab": {
          "base_uri": "https://localhost:8080/",
          "height": 564
        },
        "id": "TKs3cWfc_CI2",
        "outputId": "586496fe-35aa-4c6a-a9ce-899050f86015"
      },
      "outputs": [
        {
          "output_type": "display_data",
          "data": {
            "text/plain": [
              "<Figure size 1000x600 with 1 Axes>"
            ],
            "image/png": "[encoded data removed]"
          },
          "metadata": {}
        }
      ],
      "source": [
        "# Convert the Spark dataframe to pandas\n",
        "avg_speed_by_hour_pd = avg_speed_by_hour.toPandas()\n",
        "\n",
        "# Order by hour\n",
        "avg_speed_by_hour_pd = avg_speed_by_hour_pd.sort_values('hour')\n",
        "\n",
        "# Create the line chart\n",
        "plt.figure(figsize=(10, 6))\n",
        "plt.plot(avg_speed_by_hour_pd['hour'], avg_speed_by_hour_pd['avg_speed'], marker='o')\n",
        "\n",
        "# Configure the title and tags\n",
        "plt.title('Average Speed by Hour')\n",
        "plt.xlabel('Hour')\n",
        "plt.ylabel('Average Speed')\n",
        "\n",
        "plt.grid(True)\n",
        "plt.show()"
      ]
    },
    {
      "cell_type": "code",
      "execution_count": 29,
      "metadata": {
        "colab": {
          "base_uri": "https://localhost:8080/",
          "height": 564
        },
        "id": "GATubLCO-ACY",
        "outputId": "353315b3-6250-4494-d7e0-c72c1313dbbc"
      },
      "outputs": [
        {
          "output_type": "display_data",
          "data": {
            "text/plain": [
              "<Figure size 1000x600 with 1 Axes>"
            ],
            "image/png": "[encoded data removed]"
          },
          "metadata": {}
        }
      ],
      "source": [
        "# 4. Patterns or variations by day:\n",
        "daywise_speed = traffic_data.groupBy('day_of_week').agg({'speed': 'avg'}).toPandas()\n",
        "daywise_speed = daywise_speed.sort_values('day_of_week')\n",
        "\n",
        "# Create line chart\n",
        "plt.figure(figsize=(10, 6))\n",
        "plt.plot(daywise_speed['day_of_week'], daywise_speed['avg(speed)'], marker='o')\n",
        "\n",
        "plt.xlabel('Day of Week')\n",
        "plt.ylabel('Average Speed')\n",
        "plt.title('Average Speed Variation by Day')\n",
        "plt.show()"
      ]
    },
    {
      "cell_type": "markdown",
      "source": [
        "# Predictive Modeling"
      ],
      "metadata": {
        "id": "cMrrrvC-hdK7"
      }
    },
    {
      "cell_type": "code",
      "execution_count": 30,
      "metadata": {
        "id": "KtVfyT0ZKuPB"
      },
      "outputs": [],
      "source": [
        "# 1. Data Preparation\n",
        "traffic_data_perc = traffic_data_time.groupby('segment_id', 'hour', 'day_of_week', 'month').agg(\n",
        "                             F.first('estimated_time').alias('estimated_time'),\n",
        "                             F.expr('percentile(estimated_time, array(0.25))')[0].alias('perc %25'),\n",
        "                             F.expr('percentile(estimated_time, array(0.50))')[0].alias('perc %50'),\n",
        "                             F.expr('percentile(estimated_time, array(0.75))')[0].alias('perc %75')\n",
        "                             )"
      ]
    },
    {
      "cell_type": "code",
      "execution_count": 31,
      "metadata": {
        "colab": {
          "base_uri": "https://localhost:8080/"
        },
        "id": "mq80vk4kQgnw",
        "outputId": "d01afcba-4d9e-44d4-ed6b-26c17d92d247"
      },
      "outputs": [
        {
          "output_type": "stream",
          "name": "stdout",
          "text": [
            "+----------+----+-----------+-----+--------------+--------+--------+--------+\n",
            "|segment_id|hour|day_of_week|month|estimated_time|perc %25|perc %50|perc %75|\n",
            "+----------+----+-----------+-----+--------------+--------+--------+--------+\n",
            "|       141|   0|          1|    1|           1.2|    1.03|    1.11|    1.25|\n",
            "|       141|   0|          1|    5|          1.76|    1.03|    1.15|     1.3|\n",
            "|       141|   0|          1|    6|           1.5|    1.03|    1.11|     1.3|\n",
            "|       141|   0|          2|    2|          1.11|    1.03|    1.11|    1.25|\n",
            "|       141|   0|          2|   11|          0.97|    1.07|    1.13|     1.3|\n",
            "+----------+----+-----------+-----+--------------+--------+--------+--------+\n",
            "only showing top 5 rows\n",
            "\n"
          ]
        }
      ],
      "source": [
        "traffic_data_perc.show(5)"
      ]
    },
    {
      "cell_type": "code",
      "execution_count": 32,
      "metadata": {
        "colab": {
          "base_uri": "https://localhost:8080/"
        },
        "id": "crjxhVJaO2uB",
        "outputId": "30fdffa6-3073-4d5e-ab21-c82cff9dd25f"
      },
      "outputs": [
        {
          "output_type": "stream",
          "name": "stdout",
          "text": [
            "+----------+----+-----------+-----+--------------+--------+--------+--------+\n",
            "|segment_id|hour|day_of_week|month|estimated_time|perc %25|perc %50|perc %75|\n",
            "+----------+----+-----------+-----+--------------+--------+--------+--------+\n",
            "|       143|   0|          1|    1|          1.03|    1.11|     1.2|    1.36|\n",
            "|       143|   0|          1|    2|          1.07|    1.11|     1.2|     1.3|\n",
            "|       143|   0|          1|    3|           1.3|    1.11|     1.2|     1.3|\n",
            "|       143|   0|          1|    4|          1.67|  1.1875|   1.275|    1.43|\n",
            "|       143|   0|          1|    5|           1.2|    1.13|     1.2|     1.3|\n",
            "+----------+----+-----------+-----+--------------+--------+--------+--------+\n",
            "only showing top 5 rows\n",
            "\n"
          ]
        }
      ],
      "source": [
        "traffic_data_perc[traffic_data_perc['segment_id'] == \"143\"].show(5)"
      ]
    },
    {
      "cell_type": "code",
      "execution_count": 33,
      "metadata": {
        "colab": {
          "base_uri": "https://localhost:8080/"
        },
        "id": "DRntRqwBP-0a",
        "outputId": "6a26ec33-68f0-4557-8914-9fddaf0ee18b"
      },
      "outputs": [
        {
          "output_type": "stream",
          "name": "stdout",
          "text": [
            "+----------+----+-----------+-----+--------------+--------+--------+--------+\n",
            "|segment_id|hour|day_of_week|month|estimated_time|perc %25|perc %50|perc %75|\n",
            "+----------+----+-----------+-----+--------------+--------+--------+--------+\n",
            "|       141|   0|          1|    5|          1.76|    1.03|    1.15|     1.3|\n",
            "|       141|   0|          1|    6|           1.5|    1.03|    1.11|     1.3|\n",
            "|       141|   0|          4|    5|           1.5|    1.03|    1.11|     1.3|\n",
            "|       141|   0|          6|    1|          1.25|    1.03|    1.11|     1.3|\n",
            "|       141|   0|          7|    2|          1.25|     1.0|    1.11|     1.2|\n",
            "+----------+----+-----------+-----+--------------+--------+--------+--------+\n",
            "only showing top 5 rows\n",
            "\n"
          ]
        }
      ],
      "source": [
        "traffic_data_perc[traffic_data_perc['estimated_time'] > \"1.2\"].show(5)"
      ]
    },
    {
      "cell_type": "markdown",
      "source": [
        "# Search Conditions"
      ],
      "metadata": {
        "id": "uOIFmUDFiR22"
      }
    },
    {
      "cell_type": "code",
      "execution_count": 34,
      "metadata": {
        "id": "vaCHVmCWRIz4"
      },
      "outputs": [],
      "source": [
        "# Define search conditions\n",
        "start_segment = 141\n",
        "end_segment = 147\n",
        "hour = 17\n",
        "day_of_week = 6\n",
        "month = 3"
      ]
    },
    {
      "cell_type": "code",
      "execution_count": 35,
      "metadata": {
        "id": "Lbc9PgbTRqh4"
      },
      "outputs": [],
      "source": [
        "# Filter the DataFrame based on conditions\n",
        "filtered_result = traffic_data_perc.filter(\n",
        "    (col('segment_id').between(start_segment, end_segment)) &\n",
        "    (col('hour') == hour) &\n",
        "    (col('day_of_week') == day_of_week) &\n",
        "    (col('month') == month)\n",
        ")"
      ]
    },
    {
      "cell_type": "code",
      "execution_count": 36,
      "metadata": {
        "colab": {
          "base_uri": "https://localhost:8080/"
        },
        "id": "bH7UqpC5RqZ3",
        "outputId": "43270976-bfba-44ac-eac7-89b2568c3866"
      },
      "outputs": [
        {
          "output_type": "stream",
          "name": "stdout",
          "text": [
            "+----------+----+-----------+-----+--------------+--------+--------+--------+\n",
            "|segment_id|hour|day_of_week|month|estimated_time|perc %25|perc %50|perc %75|\n",
            "+----------+----+-----------+-----+--------------+--------+--------+--------+\n",
            "|       142|  17|          6|    3|          1.43|    1.11|    1.25|    1.67|\n",
            "|       144|  17|          6|    3|          1.25|    1.11|    1.25|    1.36|\n",
            "|       143|  17|          6|    3|          1.25|    1.11|    1.25|    1.43|\n",
            "|       145|  17|          6|    3|          2.14|    1.07|     1.2|     1.3|\n",
            "|       141|  17|          6|    3|           1.5|    1.03|    1.11|     1.2|\n",
            "|       147|  17|          6|    3|           1.3|    1.03|    1.15|  1.2125|\n",
            "|       146|  17|          6|    3|          0.94|    1.03|    1.15|     1.3|\n",
            "+----------+----+-----------+-----+--------------+--------+--------+--------+\n",
            "\n"
          ]
        }
      ],
      "source": [
        "filtered_result.show()"
      ]
    },
    {
      "cell_type": "code",
      "execution_count": 37,
      "metadata": {
        "id": "hSXovYUvScDJ"
      },
      "outputs": [],
      "source": [
        "total_time = filtered_result.agg(F.sum('estimated_time').alias('total_time (min)'))"
      ]
    },
    {
      "cell_type": "code",
      "execution_count": 38,
      "metadata": {
        "colab": {
          "base_uri": "https://localhost:8080/"
        },
        "id": "52gvxtDeSm0E",
        "outputId": "092f27d8-ecd6-40f6-8e5c-e9e518937563"
      },
      "outputs": [
        {
          "output_type": "stream",
          "name": "stdout",
          "text": [
            "+----------------+\n",
            "|total_time (min)|\n",
            "+----------------+\n",
            "|            9.81|\n",
            "+----------------+\n",
            "\n"
          ]
        }
      ],
      "source": [
        "total_time.show()"
      ]
    },
    {
      "cell_type": "markdown",
      "source": [
        "# Predictive Modeling"
      ],
      "metadata": {
        "id": "7LdhlOstjIGL"
      }
    },
    {
      "cell_type": "markdown",
      "metadata": {
        "id": "nAiR5Q91eet5"
      },
      "source": [
        "REGRESION MODEL"
      ]
    },
    {
      "cell_type": "code",
      "execution_count": 46,
      "metadata": {
        "id": "iPJFDY5fjZDT"
      },
      "outputs": [],
      "source": [
        "traffic_regresion = traffic_data_time.select(\"segment_id\",\"hour\",\"day_of_week\",\"month\",\"estimated_time\")"
      ]
    },
    {
      "cell_type": "code",
      "execution_count": 47,
      "metadata": {
        "colab": {
          "base_uri": "https://localhost:8080/"
        },
        "id": "EvYbeof5kRZk",
        "outputId": "bb86a83b-5a6a-4c12-cf64-d670733db7b3"
      },
      "outputs": [
        {
          "output_type": "execute_result",
          "data": {
            "text/plain": [
              "0"
            ]
          },
          "metadata": {},
          "execution_count": 47
        }
      ],
      "source": [
        "# Check for null values in 'estimated_time' column\n",
        "traffic_data_time.select('estimated_time').filter(F.col('estimated_time').isNull() | F.isnan('estimated_time')).count()"
      ]
    },
    {
      "cell_type": "code",
      "execution_count": 48,
      "metadata": {
        "colab": {
          "base_uri": "https://localhost:8080/"
        },
        "id": "lm7z1ziCj6nn",
        "outputId": "c5cd0774-ef98-4f1f-ce4c-c8b20ae166c0"
      },
      "outputs": [
        {
          "output_type": "stream",
          "name": "stdout",
          "text": [
            "+----------+----+-----------+-----+--------------+\n",
            "|segment_id|hour|day_of_week|month|estimated_time|\n",
            "+----------+----+-----------+-----+--------------+\n",
            "|       143|  17|          6|    3|          1.25|\n",
            "|       143|  18|          6|    3|           1.5|\n",
            "|       143|  22|          7|    3|          1.15|\n",
            "|       143|  11|          5|    3|          0.97|\n",
            "|       143|   7|          7|    3|          1.07|\n",
            "|       143|  12|          5|    3|          1.67|\n",
            "|       143|  18|          6|    3|           1.5|\n",
            "|       143|  18|          6|    3|          1.36|\n",
            "|       143|  23|          7|    3|          1.11|\n",
            "|       143|  12|          5|    3|          1.67|\n",
            "+----------+----+-----------+-----+--------------+\n",
            "only showing top 10 rows\n",
            "\n"
          ]
        }
      ],
      "source": [
        "traffic_regresion.show(10)"
      ]
    },
    {
      "cell_type": "markdown",
      "source": [
        "# Data Preparation"
      ],
      "metadata": {
        "id": "HnvD2om9mSRs"
      }
    },
    {
      "cell_type": "code",
      "execution_count": 50,
      "metadata": {
        "id": "9b8fRTobiCmt"
      },
      "outputs": [],
      "source": [
        "traffic_regresion_grouped_perc = (\n",
        "    traffic_regresion\n",
        "    .groupby('segment_id', 'hour', 'day_of_week', 'month')\n",
        "    .agg(\n",
        "        F.expr('percentile_approx(estimated_time, 0.5)').alias('q50_estimated_time'),\n",
        "        F.expr('percentile_approx(estimated_time, 0.25)').alias('q25_estimated_time'),\n",
        "        F.expr('percentile_approx(estimated_time, 0.75)').alias('q75_estimated_time')\n",
        "    )\n",
        ")"
      ]
    },
    {
      "cell_type": "code",
      "execution_count": 51,
      "metadata": {
        "colab": {
          "base_uri": "https://localhost:8080/"
        },
        "id": "MRE_pR_JiJvl",
        "outputId": "f1738a76-6063-4b24-d4f1-b19286e6b856"
      },
      "outputs": [
        {
          "output_type": "stream",
          "name": "stdout",
          "text": [
            "+----------+----+-----------+-----+------------------+------------------+------------------+\n",
            "|segment_id|hour|day_of_week|month|q50_estimated_time|q25_estimated_time|q75_estimated_time|\n",
            "+----------+----+-----------+-----+------------------+------------------+------------------+\n",
            "|       141|   0|          1|    1|              1.11|              1.03|              1.25|\n",
            "|       141|   0|          1|    5|              1.15|              1.03|               1.3|\n",
            "|       141|   0|          1|    6|              1.11|              1.03|               1.3|\n",
            "|       141|   0|          2|    2|              1.11|              1.03|              1.25|\n",
            "|       141|   0|          2|   11|              1.11|              1.07|               1.3|\n",
            "|       141|   0|          3|    1|              1.15|              1.11|               1.3|\n",
            "|       141|   0|          3|    7|              1.11|              1.03|               1.3|\n",
            "|       141|   0|          4|    2|              1.11|              0.97|               1.3|\n",
            "|       141|   0|          4|    5|              1.11|              1.03|               1.3|\n",
            "|       141|   0|          6|    1|              1.11|              1.03|               1.3|\n",
            "+----------+----+-----------+-----+------------------+------------------+------------------+\n",
            "only showing top 10 rows\n",
            "\n"
          ]
        }
      ],
      "source": [
        "traffic_regresion_grouped_perc.show(10)"
      ]
    },
    {
      "cell_type": "code",
      "execution_count": 52,
      "metadata": {
        "colab": {
          "base_uri": "https://localhost:8080/"
        },
        "id": "aMYU0VHBetVP",
        "outputId": "b79911c9-aa38-480b-b83e-5bbc90af1e23"
      },
      "outputs": [
        {
          "output_type": "stream",
          "name": "stdout",
          "text": [
            "+----------+----+-----------+-----+-------------------+\n",
            "|segment_id|hour|day_of_week|month|mean_estimated_time|\n",
            "+----------+----+-----------+-----+-------------------+\n",
            "|       143|   5|          4|    3| 1.1846987951807229|\n",
            "|       143|  15|          6|    4| 1.4258518518518524|\n",
            "|       143|  23|          5|    7| 1.2566666666666666|\n",
            "|       143|   4|          1|    7| 1.2378333333333333|\n",
            "|       143|   1|          1|    9| 1.2195604395604396|\n",
            "|       143|  23|          3|   10| 1.2560759493670886|\n",
            "|       143|  20|          4|   10| 1.1906956521739132|\n",
            "|       143|   8|          2|    9|  1.177904761904762|\n",
            "|       143|  15|          1|    1| 1.2446534653465342|\n",
            "|       143|   7|          6|   12|  1.251573033707865|\n",
            "|       142|  22|          4|    3|  1.233670886075949|\n",
            "|       142|   0|          2|    4|  1.181081081081081|\n",
            "|       142|  12|          2|    6| 1.2264285714285712|\n",
            "|       142|   8|          2|   10| 1.1513461538461536|\n",
            "|       142|  10|          5|   10|  1.114234234234234|\n",
            "|       142|   0|          1|   10| 1.1995833333333332|\n",
            "|       142|  14|          4|   12| 1.2448101265822782|\n",
            "|       142|  10|          6|    2| 1.1606249999999998|\n",
            "|       144|  15|          5|    5| 1.4025000000000005|\n",
            "|       144|  21|          6|    8| 1.2371739130434782|\n",
            "+----------+----+-----------+-----+-------------------+\n",
            "only showing top 20 rows\n",
            "\n"
          ]
        }
      ],
      "source": [
        "traffic_regresion_grouped.show()"
      ]
    },
    {
      "cell_type": "markdown",
      "source": [
        "# Feature Selection"
      ],
      "metadata": {
        "id": "lP1NkOVnmXfW"
      }
    },
    {
      "cell_type": "code",
      "execution_count": 53,
      "metadata": {
        "id": "VAvQpEeIetR6"
      },
      "outputs": [],
      "source": [
        "# Assemble the features into a single vector\n",
        "vector_assembler_grouped = VectorAssembler(inputCols=[\"segment_id\", \"hour\", \"day_of_week\", \"month\"], outputCol=\"features\")\n"
      ]
    },
    {
      "cell_type": "markdown",
      "source": [
        "# Model Training"
      ],
      "metadata": {
        "id": "qaYm8ZjCmxdf"
      }
    },
    {
      "cell_type": "code",
      "source": [
        "# 1. Data Transformation\n",
        "df_assembled_grouped = vector_assembler_grouped.transform(traffic_regresion_grouped_perc)\n",
        "\n",
        "# Split the data into training and test sets\n",
        "(train_data_grouped, test_data_grouped) = df_assembled_grouped.randomSplit([0.8, 0.2], seed=42)"
      ],
      "metadata": {
        "id": "NaAcwrCOmwxj"
      },
      "execution_count": 59,
      "outputs": []
    },
    {
      "cell_type": "code",
      "execution_count": 60,
      "metadata": {
        "id": "ZTM5iwtjetKU"
      },
      "outputs": [],
      "source": [
        "# 2. Model Inicialization\n",
        "# Create the linear regression model\n",
        "regressor_grouped = LinearRegression(featuresCol=\"features\", labelCol=\"q50_estimated_time\")"
      ]
    },
    {
      "cell_type": "code",
      "execution_count": 61,
      "metadata": {
        "id": "i86VaRzletGg"
      },
      "outputs": [],
      "source": [
        "# 3. Model Fitting\n",
        "regressor_grouped = regressor_grouped.fit(train_data_grouped)"
      ]
    },
    {
      "cell_type": "code",
      "execution_count": 62,
      "metadata": {
        "id": "MWVslCOqetBW"
      },
      "outputs": [],
      "source": [
        "# I make predictions on the test set\n",
        "pred_grouped= regressor_grouped.evaluate(test_data_grouped)"
      ]
    },
    {
      "cell_type": "code",
      "execution_count": 63,
      "metadata": {
        "colab": {
          "base_uri": "https://localhost:8080/"
        },
        "id": "WaPzNbAFfzlS",
        "outputId": "c4f3d1a4-6bd8-4585-b4bb-bee812def8cf"
      },
      "outputs": [
        {
          "output_type": "stream",
          "name": "stdout",
          "text": [
            "Root Mean Squared Error (RMSE): 0.21953820297744064\n"
          ]
        }
      ],
      "source": [
        "# 4. Model Evaluation\n",
        "# Root Mean Square Error (RMSE)\n",
        "eval_grouped = RegressionEvaluator(labelCol=\"q50_estimated_time\", predictionCol=\"prediction\", metricName=\"rmse\")\n",
        "rmse_grouped = eval_grouped.evaluate(pred_grouped.predictions)\n",
        "print(f\"Root Mean Squared Error (RMSE): {rmse_grouped}\")"
      ]
    },
    {
      "cell_type": "code",
      "execution_count": 64,
      "metadata": {
        "colab": {
          "base_uri": "https://localhost:8080/"
        },
        "id": "wBvQ-WlQZTHE",
        "outputId": "e2f8e430-3813-4ff9-9a97-29d5347b7d8b"
      },
      "outputs": [
        {
          "output_type": "stream",
          "name": "stdout",
          "text": [
            "Mean Absolute Error (MAE): 0.147\n"
          ]
        }
      ],
      "source": [
        "# Mean Absolute Error (MAE)\n",
        "mae_grouped = eval_grouped.evaluate(pred_grouped.predictions, {eval_grouped.metricName: \"mae\"})\n",
        "print(\"Mean Absolute Error (MAE): %.3f\" % mae_grouped)"
      ]
    },
    {
      "cell_type": "code",
      "execution_count": 65,
      "metadata": {
        "colab": {
          "base_uri": "https://localhost:8080/"
        },
        "id": "kbzT6AcUaHE6",
        "outputId": "e2d3bdf2-d9c4-40e8-c9c4-4bb26044998c"
      },
      "outputs": [
        {
          "output_type": "stream",
          "name": "stdout",
          "text": [
            "coefficient of determination R2: 0.177\n"
          ]
        }
      ],
      "source": [
        "# r2 - coefficient of determination\n",
        "r2_grouped = eval_grouped.evaluate(pred_grouped.predictions, {eval_grouped.metricName: \"r2\"})\n",
        "print(\"coefficient of determination R2: %.3f\" %r2_grouped)"
      ]
    },
    {
      "cell_type": "code",
      "execution_count": 66,
      "metadata": {
        "id": "3x4jnDqmbUnw"
      },
      "outputs": [],
      "source": [
        "# Residuals analysis\n",
        "residuals_grouped = pred_grouped.predictions.withColumn(\"residuals\", F.col(\"q50_estimated_time\") - F.col(\"prediction\"))\n",
        "\n",
        "# Visualizing residuals\n",
        "residuals_pd = residuals_grouped.select(\"hour\", \"residuals\").toPandas()"
      ]
    },
    {
      "cell_type": "code",
      "execution_count": 67,
      "metadata": {
        "colab": {
          "base_uri": "https://localhost:8080/",
          "height": 564
        },
        "id": "G0PnjV0xbUan",
        "outputId": "53067e3f-780b-4e02-da04-cfad14ee22e3"
      },
      "outputs": [
        {
          "output_type": "display_data",
          "data": {
            "text/plain": [
              "<Figure size 1000x600 with 1 Axes>"
            ],
            "image/png": "[encoded data removed]"
          },
          "metadata": {}
        }
      ],
      "source": [
        "plt.figure(figsize=(10, 6))\n",
        "sns.scatterplot(x=\"hour\", y=\"residuals\", data=residuals_pd)\n",
        "plt.title(\"Residuals Analysis\")\n",
        "plt.xlabel(\"Hour of the Day\")\n",
        "plt.ylabel(\"Residuals (Observed - Predicted)\")\n",
        "plt.show()"
      ]
    },
    {
      "cell_type": "markdown",
      "metadata": {
        "id": "kK485ELJgcNQ"
      },
      "source": [
        "# Data Visualization"
      ]
    },
    {
      "cell_type": "code",
      "execution_count": 68,
      "metadata": {
        "id": "fo2g2FLagbet"
      },
      "outputs": [],
      "source": [
        "# Define search conditions\n",
        "start_segment = 141\n",
        "end_segment = 147\n",
        "hour = 17\n",
        "day_of_week = 6\n",
        "month = 3"
      ]
    },
    {
      "cell_type": "code",
      "execution_count": 69,
      "metadata": {
        "colab": {
          "base_uri": "https://localhost:8080/"
        },
        "id": "vb2aJaTYhm_b",
        "outputId": "1819c881-b761-4b6b-b6f5-0ec996ea315c"
      },
      "outputs": [
        {
          "output_type": "stream",
          "name": "stdout",
          "text": [
            "+----------+----+-----------+-----+--------------+\n",
            "|segment_id|hour|day_of_week|month|estimated_time|\n",
            "+----------+----+-----------+-----+--------------+\n",
            "|       143|  17|          6|    3|          1.25|\n",
            "|       143|  18|          6|    3|           1.5|\n",
            "|       143|  22|          7|    3|          1.15|\n",
            "|       143|  11|          5|    3|          0.97|\n",
            "|       143|   7|          7|    3|          1.07|\n",
            "|       143|  12|          5|    3|          1.67|\n",
            "|       143|  18|          6|    3|           1.5|\n",
            "|       143|  18|          6|    3|          1.36|\n",
            "|       143|  23|          7|    3|          1.11|\n",
            "|       143|  12|          5|    3|          1.67|\n",
            "|       143|  18|          6|    3|           1.2|\n",
            "|       143|   7|          7|    3|          1.67|\n",
            "|       143|  19|          2|    3|           1.3|\n",
            "|       143|  15|          5|    3|          1.67|\n",
            "|       143|   7|          7|    3|          1.03|\n",
            "|       143|  19|          6|    3|          0.97|\n",
            "|       143|  13|          5|    3|          1.76|\n",
            "|       143|  19|          6|    3|          1.36|\n",
            "|       143|  19|          6|    3|          1.15|\n",
            "|       143|  14|          5|    3|          1.76|\n",
            "+----------+----+-----------+-----+--------------+\n",
            "only showing top 20 rows\n",
            "\n"
          ]
        }
      ],
      "source": [
        "traffic_regresion.show()"
      ]
    },
    {
      "cell_type": "code",
      "execution_count": 70,
      "metadata": {
        "id": "dZbhif5Yhjc0"
      },
      "outputs": [],
      "source": [
        "traffic_data_perc = traffic_regresion.groupby('segment_id', 'hour', 'day_of_week', 'month').agg(\n",
        "                             F.first('estimated_time').alias('estimated_time'),\n",
        "                             F.expr('percentile(estimated_time, array(0.25))')[0].alias('perc %25'),\n",
        "                             F.expr('percentile(estimated_time, array(0.50))')[0].alias('perc %50'),\n",
        "                             F.expr('percentile(estimated_time, array(0.75))')[0].alias('perc %75')\n",
        "                             )"
      ]
    },
    {
      "cell_type": "code",
      "execution_count": 71,
      "metadata": {
        "colab": {
          "base_uri": "https://localhost:8080/"
        },
        "id": "A9AD3sjAhy6v",
        "outputId": "37fa808b-2110-40d5-924d-51a6b8d03ccb"
      },
      "outputs": [
        {
          "output_type": "stream",
          "name": "stdout",
          "text": [
            "+----------+----+-----------+-----+--------------+--------+--------+--------+\n",
            "|segment_id|hour|day_of_week|month|estimated_time|perc %25|perc %50|perc %75|\n",
            "+----------+----+-----------+-----+--------------+--------+--------+--------+\n",
            "|       141|   0|          1|    1|           1.2|    1.03|    1.11|    1.25|\n",
            "|       141|   0|          1|    5|          1.76|    1.03|    1.15|     1.3|\n",
            "|       141|   0|          1|    6|           1.5|    1.03|    1.11|     1.3|\n",
            "|       141|   0|          2|    2|          1.11|    1.03|    1.11|    1.25|\n",
            "|       141|   0|          2|   11|          0.97|    1.07|    1.13|     1.3|\n",
            "|       141|   0|          3|    1|          1.07|    1.11|    1.15|     1.3|\n",
            "|       141|   0|          3|    7|          1.03|    1.03|    1.11|     1.3|\n",
            "|       141|   0|          4|    2|          1.07|    0.97|    1.11|     1.3|\n",
            "|       141|   0|          4|    5|           1.5|    1.03|    1.11|     1.3|\n",
            "|       141|   0|          6|    1|          1.25|    1.03|    1.11|     1.3|\n",
            "|       141|   0|          6|    5|          0.91|     1.0|    1.11|  1.2125|\n",
            "|       141|   0|          6|   12|           1.2|    1.03|    1.11|     1.2|\n",
            "|       141|   0|          7|    2|          1.25|     1.0|    1.11|     1.2|\n",
            "|       141|   1|          1|   12|          1.11|    1.07|    1.11|    1.25|\n",
            "|       141|   1|          2|    7|          1.11|    1.07|    1.11|     1.2|\n",
            "|       141|   1|          3|    1|          1.07|    1.07|    1.11|     1.2|\n",
            "|       141|   1|          3|    3|           1.2|    1.07|    1.11|     1.3|\n",
            "|       141|   1|          3|    6|          0.91|    0.97|    1.11|     1.2|\n",
            "|       141|   1|          4|    3|          1.07|    1.03|    1.11|     1.2|\n",
            "|       141|   1|          4|    7|          1.03|    0.97|    1.11|     1.2|\n",
            "+----------+----+-----------+-----+--------------+--------+--------+--------+\n",
            "only showing top 20 rows\n",
            "\n"
          ]
        }
      ],
      "source": [
        "traffic_data_perc.show()"
      ]
    },
    {
      "cell_type": "code",
      "execution_count": 73,
      "metadata": {
        "id": "CZqasP0PghWI"
      },
      "outputs": [],
      "source": [
        "# Filter the DataFrame based on conditions\n",
        "traffic_regresion_filtered = traffic_data_perc.filter(\n",
        "    (col('segment_id').between(start_segment, end_segment)) &\n",
        "    (col('hour') == hour) &\n",
        "    (col('day_of_week') == day_of_week) &\n",
        "    (col('month') == month)\n",
        ")"
      ]
    },
    {
      "cell_type": "code",
      "execution_count": 74,
      "metadata": {
        "colab": {
          "base_uri": "https://localhost:8080/"
        },
        "id": "zccxnCEKghRH",
        "outputId": "cef453d0-1dd7-4a37-bf38-8c1fd8b4207f"
      },
      "outputs": [
        {
          "output_type": "stream",
          "name": "stdout",
          "text": [
            "+----------+----+-----------+-----+--------------+--------+--------+--------+\n",
            "|segment_id|hour|day_of_week|month|estimated_time|perc %25|perc %50|perc %75|\n",
            "+----------+----+-----------+-----+--------------+--------+--------+--------+\n",
            "|       142|  17|          6|    3|          1.43|    1.11|    1.25|    1.67|\n",
            "|       144|  17|          6|    3|          1.25|    1.11|    1.25|    1.36|\n",
            "|       143|  17|          6|    3|          1.25|    1.11|    1.25|    1.43|\n",
            "|       145|  17|          6|    3|          2.14|    1.07|     1.2|     1.3|\n",
            "|       141|  17|          6|    3|           1.5|    1.03|    1.11|     1.2|\n",
            "|       147|  17|          6|    3|           1.3|    1.03|    1.15|  1.2125|\n",
            "|       146|  17|          6|    3|          0.94|    1.03|    1.15|     1.3|\n",
            "+----------+----+-----------+-----+--------------+--------+--------+--------+\n",
            "\n"
          ]
        }
      ],
      "source": [
        "traffic_regresion_filtered.show()"
      ]
    },
    {
      "cell_type": "code",
      "execution_count": 75,
      "metadata": {
        "id": "_b6ZV9vvghMF"
      },
      "outputs": [],
      "source": [
        "total_time = traffic_regresion_filtered.agg(F.sum('estimated_time').alias('total_time'))"
      ]
    },
    {
      "cell_type": "code",
      "execution_count": null,
      "metadata": {
        "colab": {
          "base_uri": "https://localhost:8080/"
        },
        "id": "GPvbfz0GghFI",
        "outputId": "a9f2f8b9-8c6f-4868-d626-9c25077ae6c8"
      },
      "outputs": [
        {
          "name": "stdout",
          "output_type": "stream",
          "text": [
            "+----------+\n",
            "|total_time|\n",
            "+----------+\n",
            "|      9.81|\n",
            "+----------+\n",
            "\n"
          ]
        }
      ],
      "source": [
        "total_time.show()"
      ]
    },
    {
      "cell_type": "code",
      "execution_count": 77,
      "metadata": {
        "colab": {
          "base_uri": "https://localhost:8080/"
        },
        "id": "_JwAeOglgg86",
        "outputId": "99f9ecb2-21b3-4f2f-e33e-b4b8f56141be"
      },
      "outputs": [
        {
          "output_type": "stream",
          "name": "stdout",
          "text": [
            "+----------+--------------+---------------+-------------+--------------+\n",
            "|segment_id|start_latitude|start_longitude| end_latitude| end_longitude|\n",
            "+----------+--------------+---------------+-------------+--------------+\n",
            "|       142| 41.8013192816| -87.6649598466|41.7940254304|-87.6647651619|\n",
            "|       143| 41.8086055077| -87.6651559056|41.8013192816|-87.6649598466|\n",
            "|       144| 41.8158718637| -87.6653316028|41.8086055077|-87.6651559056|\n",
            "|       141| 41.7940254304| -87.6647651619|41.7867479054|-87.6645778209|\n",
            "|       145| 41.8231529963| -87.6654916893|41.8158718637|-87.6653316028|\n",
            "|       150| 41.8668625554| -87.6665671071|41.8577948131|-87.6663216627|\n",
            "|       148| 41.8523321221| -87.6662077421|41.8376849226|-87.6659250887|\n",
            "|       146| 41.8305024208| -87.6657517025|41.8231529963|-87.6654916893|\n",
            "|       147| 41.8376849226| -87.6659250887|41.8305024208|-87.6657517025|\n",
            "|       149| 41.8577948131| -87.6663216627|41.8523321221|-87.6662077421|\n",
            "+----------+--------------+---------------+-------------+--------------+\n",
            "\n"
          ]
        }
      ],
      "source": [
        "segment_data = traffic_data.groupBy('segment_id').agg(\n",
        "    first('start_latitude').alias('start_latitude'),\n",
        "    first('start_longitude').alias('start_longitude'),\n",
        "    first('end_latitude').alias('end_latitude'),\n",
        "    first('end_longitude').alias('end_longitude')\n",
        ")\n",
        "\n",
        "segment_data.show()"
      ]
    },
    {
      "cell_type": "code",
      "execution_count": 78,
      "metadata": {
        "colab": {
          "base_uri": "https://localhost:8080/"
        },
        "id": "2xNFEMY6iUmM",
        "outputId": "c9ba5e29-3780-49cc-c1a3-9fabfafe8c07"
      },
      "outputs": [
        {
          "output_type": "stream",
          "name": "stdout",
          "text": [
            "+----------+----+-----------+-----+--------------+--------+--------+--------+--------------+---------------+-------------+--------------+\n",
            "|segment_id|hour|day_of_week|month|estimated_time|perc %25|perc %50|perc %75|start_latitude|start_longitude| end_latitude| end_longitude|\n",
            "+----------+----+-----------+-----+--------------+--------+--------+--------+--------------+---------------+-------------+--------------+\n",
            "|       142|  17|          6|    3|          1.43|    1.11|    1.25|    1.67| 41.8013192816| -87.6649598466|41.7940254304|-87.6647651619|\n",
            "|       144|  17|          6|    3|          1.25|    1.11|    1.25|    1.36| 41.8158718637| -87.6653316028|41.8086055077|-87.6651559056|\n",
            "|       143|  17|          6|    3|          1.25|    1.11|    1.25|    1.43| 41.8086055077| -87.6651559056|41.8013192816|-87.6649598466|\n",
            "|       145|  17|          6|    3|          2.14|    1.07|     1.2|     1.3| 41.8231529963| -87.6654916893|41.8158718637|-87.6653316028|\n",
            "|       141|  17|          6|    3|           1.5|    1.03|    1.11|     1.2| 41.7940254304| -87.6647651619|41.7867479054|-87.6645778209|\n",
            "|       147|  17|          6|    3|           1.3|    1.03|    1.15|  1.2125| 41.8376849226| -87.6659250887|41.8305024208|-87.6657517025|\n",
            "|       146|  17|          6|    3|          0.94|    1.03|    1.15|     1.3| 41.8305024208| -87.6657517025|41.8231529963|-87.6654916893|\n",
            "+----------+----+-----------+-----+--------------+--------+--------+--------+--------------+---------------+-------------+--------------+\n",
            "\n"
          ]
        }
      ],
      "source": [
        "# Join the DataFrames to obtain the start and end coordinates of each segment\n",
        "joined_df = traffic_regresion_filtered.join(\n",
        "    segment_data,\n",
        "    on=['segment_id'],\n",
        "    how = 'left'\n",
        ")\n",
        "\n",
        "joined_df.show()"
      ]
    },
    {
      "cell_type": "code",
      "execution_count": 79,
      "metadata": {
        "colab": {
          "base_uri": "https://localhost:8080/",
          "height": 269
        },
        "id": "mZieKqKwiUg0",
        "outputId": "07f81d10-d5a5-4fb4-d1c8-08faec0234bf"
      },
      "outputs": [
        {
          "output_type": "execute_result",
          "data": {
            "text/plain": [
              "   segment_id  hour  day_of_week  month  estimated_time  perc %25  perc %50  \\\n",
              "0         142    17            6      3            1.43      1.11      1.25   \n",
              "1         144    17            6      3            1.25      1.11      1.25   \n",
              "2         143    17            6      3            1.25      1.11      1.25   \n",
              "3         145    17            6      3            2.14      1.07      1.20   \n",
              "4         141    17            6      3            1.50      1.03      1.11   \n",
              "5         147    17            6      3            1.30      1.03      1.15   \n",
              "6         146    17            6      3            0.94      1.03      1.15   \n",
              "\n",
              "   perc %75  start_latitude  start_longitude  end_latitude  end_longitude  \n",
              "0    1.6700       41.801319       -87.664960     41.794025     -87.664765  \n",
              "1    1.3600       41.815872       -87.665332     41.808606     -87.665156  \n",
              "2    1.4300       41.808606       -87.665156     41.801319     -87.664960  \n",
              "3    1.3000       41.823153       -87.665492     41.815872     -87.665332  \n",
              "4    1.2000       41.794025       -87.664765     41.786748     -87.664578  \n",
              "5    1.2125       41.837685       -87.665925     41.830502     -87.665752  \n",
              "6    1.3000       41.830502       -87.665752     41.823153     -87.665492  "
            ],
            "text/html": [
              "\n",
              "  <div id=\"df-1b9847e9-147c-4383-b2e4-a90c93497efa\" class=\"colab-df-container\">\n",
              "    <div>\n",
              "<style scoped>\n",
              "    .dataframe tbody tr th:only-of-type {\n",
              "        vertical-align: middle;\n",
              "    }\n",
              "\n",
              "    .dataframe tbody tr th {\n",
              "        vertical-align: top;\n",
              "    }\n",
              "\n",
              "    .dataframe thead th {\n",
              "        text-align: right;\n",
              "    }\n",
              "</style>\n",
              "<table border=\"1\" class=\"dataframe\">\n",
              "  <thead>\n",
              "    <tr style=\"text-align: right;\">\n",
              "      <th></th>\n",
              "      <th>segment_id</th>\n",
              "      <th>hour</th>\n",
              "      <th>day_of_week</th>\n",
              "      <th>month</th>\n",
              "      <th>estimated_time</th>\n",
              "      <th>perc %25</th>\n",
              "      <th>perc %50</th>\n",
              "      <th>perc %75</th>\n",
              "      <th>start_latitude</th>\n",
              "      <th>start_longitude</th>\n",
              "      <th>end_latitude</th>\n",
              "      <th>end_longitude</th>\n",
              "    </tr>\n",
              "  </thead>\n",
              "  <tbody>\n",
              "    <tr>\n",
              "      <th>0</th>\n",
              "      <td>142</td>\n",
              "      <td>17</td>\n",
              "      <td>6</td>\n",
              "      <td>3</td>\n",
              "      <td>1.43</td>\n",
              "      <td>1.11</td>\n",
              "      <td>1.25</td>\n",
              "      <td>1.6700</td>\n",
              "      <td>41.801319</td>\n",
              "      <td>-87.664960</td>\n",
              "      <td>41.794025</td>\n",
              "      <td>-87.664765</td>\n",
              "    </tr>\n",
              "    <tr>\n",
              "      <th>1</th>\n",
              "      <td>144</td>\n",
              "      <td>17</td>\n",
              "      <td>6</td>\n",
              "      <td>3</td>\n",
              "      <td>1.25</td>\n",
              "      <td>1.11</td>\n",
              "      <td>1.25</td>\n",
              "      <td>1.3600</td>\n",
              "      <td>41.815872</td>\n",
              "      <td>-87.665332</td>\n",
              "      <td>41.808606</td>\n",
              "      <td>-87.665156</td>\n",
              "    </tr>\n",
              "    <tr>\n",
              "      <th>2</th>\n",
              "      <td>143</td>\n",
              "      <td>17</td>\n",
              "      <td>6</td>\n",
              "      <td>3</td>\n",
              "      <td>1.25</td>\n",
              "      <td>1.11</td>\n",
              "      <td>1.25</td>\n",
              "      <td>1.4300</td>\n",
              "      <td>41.808606</td>\n",
              "      <td>-87.665156</td>\n",
              "      <td>41.801319</td>\n",
              "      <td>-87.664960</td>\n",
              "    </tr>\n",
              "    <tr>\n",
              "      <th>3</th>\n",
              "      <td>145</td>\n",
              "      <td>17</td>\n",
              "      <td>6</td>\n",
              "      <td>3</td>\n",
              "      <td>2.14</td>\n",
              "      <td>1.07</td>\n",
              "      <td>1.20</td>\n",
              "      <td>1.3000</td>\n",
              "      <td>41.823153</td>\n",
              "      <td>-87.665492</td>\n",
              "      <td>41.815872</td>\n",
              "      <td>-87.665332</td>\n",
              "    </tr>\n",
              "    <tr>\n",
              "      <th>4</th>\n",
              "      <td>141</td>\n",
              "      <td>17</td>\n",
              "      <td>6</td>\n",
              "      <td>3</td>\n",
              "      <td>1.50</td>\n",
              "      <td>1.03</td>\n",
              "      <td>1.11</td>\n",
              "      <td>1.2000</td>\n",
              "      <td>41.794025</td>\n",
              "      <td>-87.664765</td>\n",
              "      <td>41.786748</td>\n",
              "      <td>-87.664578</td>\n",
              "    </tr>\n",
              "    <tr>\n",
              "      <th>5</th>\n",
              "      <td>147</td>\n",
              "      <td>17</td>\n",
              "      <td>6</td>\n",
              "      <td>3</td>\n",
              "      <td>1.30</td>\n",
              "      <td>1.03</td>\n",
              "      <td>1.15</td>\n",
              "      <td>1.2125</td>\n",
              "      <td>41.837685</td>\n",
              "      <td>-87.665925</td>\n",
              "      <td>41.830502</td>\n",
              "      <td>-87.665752</td>\n",
              "    </tr>\n",
              "    <tr>\n",
              "      <th>6</th>\n",
              "      <td>146</td>\n",
              "      <td>17</td>\n",
              "      <td>6</td>\n",
              "      <td>3</td>\n",
              "      <td>0.94</td>\n",
              "      <td>1.03</td>\n",
              "      <td>1.15</td>\n",
              "      <td>1.3000</td>\n",
              "      <td>41.830502</td>\n",
              "      <td>-87.665752</td>\n",
              "      <td>41.823153</td>\n",
              "      <td>-87.665492</td>\n",
              "    </tr>\n",
              "  </tbody>\n",
              "</table>\n",
              "</div>\n",
              "    <div class=\"colab-df-buttons\">\n",
              "\n",
              "  <div class=\"colab-df-container\">\n",
              "    <button class=\"colab-df-convert\" onclick=\"convertToInteractive('df-1b9847e9-147c-4383-b2e4-a90c93497efa')\"\n",
              "            title=\"Convert this dataframe to an interactive table.\"\n",
              "            style=\"display:none;\">\n",
              "\n",
              "  <svg xmlns=\"http://www.w3.org/2000/svg\" height=\"24px\" viewBox=\"0 -960 960 960\">\n",
              "    <path d=\"M120-120v-720h720v720H120Zm60-500h600v-160H180v160Zm220 220h160v-160H400v160Zm0 220h160v-160H400v160ZM180-400h160v-160H180v160Zm440 0h160v-160H620v160ZM180-180h160v-160H180v160Zm440 0h160v-160H620v160Z\"/>\n",
              "  </svg>\n",
              "    </button>\n",
              "\n",
              "  <style>\n",
              "    .colab-df-container {\n",
              "      display:flex;\n",
              "      gap: 12px;\n",
              "    }\n",
              "\n",
              "    .colab-df-convert {\n",
              "      background-color: #E8F0FE;\n",
              "      border: none;\n",
              "      border-radius: 50%;\n",
              "      cursor: pointer;\n",
              "      display: none;\n",
              "      fill: #1967D2;\n",
              "      height: 32px;\n",
              "      padding: 0 0 0 0;\n",
              "      width: 32px;\n",
              "    }\n",
              "\n",
              "    .colab-df-convert:hover {\n",
              "      background-color: #E2EBFA;\n",
              "      box-shadow: 0px 1px 2px rgba(60, 64, 67, 0.3), 0px 1px 3px 1px rgba(60, 64, 67, 0.15);\n",
              "      fill: #174EA6;\n",
              "    }\n",
              "\n",
              "    .colab-df-buttons div {\n",
              "      margin-bottom: 4px;\n",
              "    }\n",
              "\n",
              "    [theme=dark] .colab-df-convert {\n",
              "      background-color: #3B4455;\n",
              "      fill: #D2E3FC;\n",
              "    }\n",
              "\n",
              "    [theme=dark] .colab-df-convert:hover {\n",
              "      background-color: #434B5C;\n",
              "      box-shadow: 0px 1px 3px 1px rgba(0, 0, 0, 0.15);\n",
              "      filter: drop-shadow(0px 1px 2px rgba(0, 0, 0, 0.3));\n",
              "      fill: #FFFFFF;\n",
              "    }\n",
              "  </style>\n",
              "\n",
              "    <script>\n",
              "      const buttonEl =\n",
              "        document.querySelector('#df-1b9847e9-147c-4383-b2e4-a90c93497efa button.colab-df-convert');\n",
              "      buttonEl.style.display =\n",
              "        google.colab.kernel.accessAllowed ? 'block' : 'none';\n",
              "\n",
              "      async function convertToInteractive(key) {\n",
              "        const element = document.querySelector('#df-1b9847e9-147c-4383-b2e4-a90c93497efa');\n",
              "        const dataTable =\n",
              "          await google.colab.kernel.invokeFunction('convertToInteractive',\n",
              "                                                    [key], {});\n",
              "        if (!dataTable) return;\n",
              "\n",
              "        const docLinkHtml = 'Like what you see? Visit the ' +\n",
              "          '<a target=\"_blank\" href=https://colab.research.google.com/notebooks/data_table.ipynb>data table notebook</a>'\n",
              "          + ' to learn more about interactive tables.';\n",
              "        element.innerHTML = '';\n",
              "        dataTable['output_type'] = 'display_data';\n",
              "        await google.colab.output.renderOutput(dataTable, element);\n",
              "        const docLink = document.createElement('div');\n",
              "        docLink.innerHTML = docLinkHtml;\n",
              "        element.appendChild(docLink);\n",
              "      }\n",
              "    </script>\n",
              "  </div>\n",
              "\n",
              "\n",
              "<div id=\"df-eded8106-e464-4d17-9408-def7ebaf413a\">\n",
              "  <button class=\"colab-df-quickchart\" onclick=\"quickchart('df-eded8106-e464-4d17-9408-def7ebaf413a')\"\n",
              "            title=\"Suggest charts\"\n",
              "            style=\"display:none;\">\n",
              "\n",
              "<svg xmlns=\"http://www.w3.org/2000/svg\" height=\"24px\"viewBox=\"0 0 24 24\"\n",
              "     width=\"24px\">\n",
              "    <g>\n",
              "        <path d=\"M19 3H5c-1.1 0-2 .9-2 2v14c0 1.1.9 2 2 2h14c1.1 0 2-.9 2-2V5c0-1.1-.9-2-2-2zM9 17H7v-7h2v7zm4 0h-2V7h2v10zm4 0h-2v-4h2v4z\"/>\n",
              "    </g>\n",
              "</svg>\n",
              "  </button>\n",
              "\n",
              "<style>\n",
              "  .colab-df-quickchart {\n",
              "      --bg-color: #E8F0FE;\n",
              "      --fill-color: #1967D2;\n",
              "      --hover-bg-color: #E2EBFA;\n",
              "      --hover-fill-color: #174EA6;\n",
              "      --disabled-fill-color: #AAA;\n",
              "      --disabled-bg-color: #DDD;\n",
              "  }\n",
              "\n",
              "  [theme=dark] .colab-df-quickchart {\n",
              "      --bg-color: #3B4455;\n",
              "      --fill-color: #D2E3FC;\n",
              "      --hover-bg-color: #434B5C;\n",
              "      --hover-fill-color: #FFFFFF;\n",
              "      --disabled-bg-color: #3B4455;\n",
              "      --disabled-fill-color: #666;\n",
              "  }\n",
              "\n",
              "  .colab-df-quickchart {\n",
              "    background-color: var(--bg-color);\n",
              "    border: none;\n",
              "    border-radius: 50%;\n",
              "    cursor: pointer;\n",
              "    display: none;\n",
              "    fill: var(--fill-color);\n",
              "    height: 32px;\n",
              "    padding: 0;\n",
              "    width: 32px;\n",
              "  }\n",
              "\n",
              "  .colab-df-quickchart:hover {\n",
              "    background-color: var(--hover-bg-color);\n",
              "    box-shadow: 0 1px 2px rgba(60, 64, 67, 0.3), 0 1px 3px 1px rgba(60, 64, 67, 0.15);\n",
              "    fill: var(--button-hover-fill-color);\n",
              "  }\n",
              "\n",
              "  .colab-df-quickchart-complete:disabled,\n",
              "  .colab-df-quickchart-complete:disabled:hover {\n",
              "    background-color: var(--disabled-bg-color);\n",
              "    fill: var(--disabled-fill-color);\n",
              "    box-shadow: none;\n",
              "  }\n",
              "\n",
              "  .colab-df-spinner {\n",
              "    border: 2px solid var(--fill-color);\n",
              "    border-color: transparent;\n",
              "    border-bottom-color: var(--fill-color);\n",
              "    animation:\n",
              "      spin 1s steps(1) infinite;\n",
              "  }\n",
              "\n",
              "  @keyframes spin {\n",
              "    0% {\n",
              "      border-color: transparent;\n",
              "      border-bottom-color: var(--fill-color);\n",
              "      border-left-color: var(--fill-color);\n",
              "    }\n",
              "    20% {\n",
              "      border-color: transparent;\n",
              "      border-left-color: var(--fill-color);\n",
              "      border-top-color: var(--fill-color);\n",
              "    }\n",
              "    30% {\n",
              "      border-color: transparent;\n",
              "      border-left-color: var(--fill-color);\n",
              "      border-top-color: var(--fill-color);\n",
              "      border-right-color: var(--fill-color);\n",
              "    }\n",
              "    40% {\n",
              "      border-color: transparent;\n",
              "      border-right-color: var(--fill-color);\n",
              "      border-top-color: var(--fill-color);\n",
              "    }\n",
              "    60% {\n",
              "      border-color: transparent;\n",
              "      border-right-color: var(--fill-color);\n",
              "    }\n",
              "    80% {\n",
              "      border-color: transparent;\n",
              "      border-right-color: var(--fill-color);\n",
              "      border-bottom-color: var(--fill-color);\n",
              "    }\n",
              "    90% {\n",
              "      border-color: transparent;\n",
              "      border-bottom-color: var(--fill-color);\n",
              "    }\n",
              "  }\n",
              "</style>\n",
              "\n",
              "  <script>\n",
              "    async function quickchart(key) {\n",
              "      const quickchartButtonEl =\n",
              "        document.querySelector('#' + key + ' button');\n",
              "      quickchartButtonEl.disabled = true;  // To prevent multiple clicks.\n",
              "      quickchartButtonEl.classList.add('colab-df-spinner');\n",
              "      try {\n",
              "        const charts = await google.colab.kernel.invokeFunction(\n",
              "            'suggestCharts', [key], {});\n",
              "      } catch (error) {\n",
              "        console.error('Error during call to suggestCharts:', error);\n",
              "      }\n",
              "      quickchartButtonEl.classList.remove('colab-df-spinner');\n",
              "      quickchartButtonEl.classList.add('colab-df-quickchart-complete');\n",
              "    }\n",
              "    (() => {\n",
              "      let quickchartButtonEl =\n",
              "        document.querySelector('#df-eded8106-e464-4d17-9408-def7ebaf413a button');\n",
              "      quickchartButtonEl.style.display =\n",
              "        google.colab.kernel.accessAllowed ? 'block' : 'none';\n",
              "    })();\n",
              "  </script>\n",
              "</div>\n",
              "    </div>\n",
              "  </div>\n"
            ]
          },
          "metadata": {},
          "execution_count": 79
        }
      ],
      "source": [
        "pandas_df = joined_df.toPandas()\n",
        "\n",
        "pandas_df.head(10)"
      ]
    },
    {
      "cell_type": "code",
      "execution_count": 80,
      "metadata": {
        "id": "f-u3XERuiUbg"
      },
      "outputs": [],
      "source": [
        "# Create a map with Folium\n",
        "map = folium.Map(location=[41.8781, -87.6298], zoom_start=12)\n",
        "\n",
        "# Get the coordinates of all segments\n",
        "line_coords = []\n",
        "for index, row in pandas_df.iterrows():\n",
        "    line_coords.extend([\n",
        "        [row['start_latitude'], row['start_longitude']],\n",
        "        [row['end_latitude'], row['end_longitude']]\n",
        "    ])\n",
        "\n",
        "# Add segments to the map with colors based on percentile\n",
        "for index, row in pandas_df.iterrows():\n",
        "    if row['estimated_time'] <= row['perc %25']:\n",
        "        color = 'green'\n",
        "    elif row['estimated_time'] <= row['perc %50']:\n",
        "        color = 'yellow'\n",
        "    elif row['estimated_time'] <= row['perc %75']:\n",
        "        color = 'orange'\n",
        "    else:\n",
        "        color = 'red'\n",
        "\n",
        "    folium.PolyLine(\n",
        "        [(row['start_latitude'], row['start_longitude']), (row['end_latitude'], row['end_longitude'])],\n",
        "        color=color,\n",
        "        weight=5,\n",
        "        opacity=1,\n",
        "        popup=f\"Segment ID: {row['segment_id']}, Estimated Time: {row['estimated_time']}\"\n",
        "    ).add_to(map)\n",
        "\n",
        "# Adjust the zoom to fit the segments\n",
        "map.fit_bounds([(min([coord[0] for coord in line_coords]), min([coord[1] for coord in line_coords])),\n",
        "                 (max([coord[0] for coord in line_coords]), max([coord[1] for coord in line_coords]))])"
      ]
    },
    {
      "cell_type": "code",
      "execution_count": 81,
      "metadata": {
        "colab": {
          "base_uri": "https://localhost:8080/",
          "height": 17
        },
        "id": "UjQUJlSOiUWP",
        "outputId": "2db69303-0a80-458b-b6f7-55fdf230154c"
      },
      "outputs": [
        {
          "output_type": "display_data",
          "data": {
            "text/plain": [
              "<IPython.core.display.Javascript object>"
            ],
            "application/javascript": [
              "\n",
              "    async function download(id, filename, size) {\n",
              "      if (!google.colab.kernel.accessAllowed) {\n",
              "        return;\n",
              "      }\n",
              "      const div = document.createElement('div');\n",
              "      const label = document.createElement('label');\n",
              "      label.textContent = `Downloading \"${filename}\": `;\n",
              "      div.appendChild(label);\n",
              "      const progress = document.createElement('progress');\n",
              "      progress.max = size;\n",
              "      div.appendChild(progress);\n",
              "      document.body.appendChild(div);\n",
              "\n",
              "      const buffers = [];\n",
              "      let downloaded = 0;\n",
              "\n",
              "      const channel = await google.colab.kernel.comms.open(id);\n",
              "      // Send a message to notify the kernel that we're ready.\n",
              "      channel.send({})\n",
              "\n",
              "      for await (const message of channel.messages) {\n",
              "        // Send a message to notify the kernel that we're ready.\n",
              "        channel.send({})\n",
              "        if (message.buffers) {\n",
              "          for (const buffer of message.buffers) {\n",
              "            buffers.push(buffer);\n",
              "            downloaded += buffer.byteLength;\n",
              "            progress.value = downloaded;\n",
              "          }\n",
              "        }\n",
              "      }\n",
              "      const blob = new Blob(buffers, {type: 'application/binary'});\n",
              "      const a = document.createElement('a');\n",
              "      a.href = window.URL.createObjectURL(blob);\n",
              "      a.download = filename;\n",
              "      div.appendChild(a);\n",
              "      a.click();\n",
              "      div.remove();\n",
              "    }\n",
              "  "
            ]
          },
          "metadata": {}
        },
        {
          "output_type": "display_data",
          "data": {
            "text/plain": [
              "<IPython.core.display.Javascript object>"
            ],
            "application/javascript": [
              "download(\"download_6bd5aea9-eb22-436a-a2b0-daa6f9f51f82\", \"Chicago_Traffic_map.html\", 11040)"
            ]
          },
          "metadata": {}
        }
      ],
      "source": [
        "from google.colab import files\n",
        "\n",
        "# Save the map as an HTML file\n",
        "map.save(\"Chicago_Traffic_map.html\")\n",
        "\n",
        "files.download(\"Chicago_Traffic_map.html\")"
      ]
    },
    {
      "cell_type": "code",
      "source": [],
      "metadata": {
        "id": "HWcojBgdoU9e"
      },
      "execution_count": null,
      "outputs": []
    }
  ],
  "metadata": {
    "colab": {
      "machine_shape": "hm",
      "provenance": []
    },
    "kernelspec": {
      "display_name": "Python 3",
      "name": "python3"
    },
    "language_info": {
      "name": "python"
    }
  },
  "nbformat": 4,
  "nbformat_minor": 0
}